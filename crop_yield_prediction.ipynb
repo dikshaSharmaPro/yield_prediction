{
  "nbformat": 4,
  "nbformat_minor": 0,
  "metadata": {
    "colab": {
      "provenance": []
    },
    "kernelspec": {
      "name": "python3",
      "display_name": "Python 3"
    },
    "language_info": {
      "name": "python"
    }
  },
  "cells": [
    {
      "cell_type": "markdown",
      "source": [
        "**Crop yield prediction of Karnataka**"
      ],
      "metadata": {
        "id": "kZMo-rUFppkb"
      }
    },
    {
      "cell_type": "code",
      "source": [
        "import pandas as pd\n",
        "import numpy as np\n",
        "from sklearn.ensemble import RandomForestRegressor\n",
        "from sklearn.model_selection import train_test_split\n",
        "from sklearn.preprocessing import OneHotEncoder\n",
        "# Manually define user inputs\n",
        "Jstate = 'Karnataka'\n",
        "Jdistrict = 'BAGALKOT'\n",
        "Jseason = 'Kharif'\n",
        "Jcrops = 'Rice'\n",
        "Jarea = '197'\n",
        "\n",
        "\n",
        "# Load the dataset\n",
        "df = pd.read_csv(\"/content/crop_production_karnataka.csv\")\n",
        "\n",
        "# Drop the Crop_Year column\n",
        "df = df.drop(['Crop_Year'], axis=1)\n",
        "\n",
        "# Separate the features and target variables\n",
        "X = df.drop(['Production'], axis=1)\n",
        "y = df['Production']\n",
        "\n",
        "# Split the data into training and testing sets\n",
        "X_train, X_test, y_train, y_test = train_test_split(X, y, test_size=0.2, random_state=42)\n",
        "\n",
        "# Categorical columns for one-hot encoding\n",
        "categorical_cols = ['State_Name', 'District_Name', 'Season', 'Crop']\n",
        "\n",
        "# One-hot encode the categorical columns\n",
        "ohe = OneHotEncoder(handle_unknown='ignore')\n",
        "ohe.fit(X_train[categorical_cols])\n",
        "\n",
        "# Convert user input to DataFrame\n",
        "user_input_df = pd.DataFrame([[Jstate, Jdistrict, Jseason, Jcrops, float(Jarea)]], columns=['State_Name', 'District_Name', 'Season', 'Crop', 'Area'])\n",
        "\n",
        "# One-hot encode the categorical columns for user input\n",
        "user_input_categorical = ohe.transform(user_input_df[['State_Name', 'District_Name', 'Season', 'Crop']])\n",
        "\n",
        "# Combine the one-hot encoded categorical columns and numerical columns for user input\n",
        "user_input_final = np.hstack((user_input_categorical.toarray(), user_input_df[['Area']].values))\n",
        "\n",
        "# Train the model\n",
        "model = RandomForestRegressor(n_estimators=100, random_state=42)\n",
        "model.fit(X_train_final, y_train)\n",
        "\n",
        "# Make the prediction\n",
        "prediction = model.predict(user_input_final)\n",
        "\n",
        "# Return the prediction as a string\n",
        "print(str(prediction[0]))\n"
      ],
      "metadata": {
        "colab": {
          "base_uri": "https://localhost:8080/"
        },
        "id": "KsBsT2wwo8NM",
        "outputId": "55fd3945-2491-4bf9-a611-571123458a75"
      },
      "execution_count": null,
      "outputs": [
        {
          "output_type": "stream",
          "name": "stdout",
          "text": [
            "427.64\n"
          ]
        }
      ]
    }
  ]
}